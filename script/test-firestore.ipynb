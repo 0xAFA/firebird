{
 "cells": [
  {
   "cell_type": "code",
   "execution_count": 4,
   "metadata": {},
   "outputs": [],
   "source": [
    "try:\n",
    "    import tweepy\n",
    "    from firebase_admin import credentials, firestore, initialize_app\n",
    "    from transformers import AutoTokenizer, AutoModelForSequenceClassification, pipeline\n",
    "except ImportError:\n",
    "    raise ImportError(\"La aplicación requiere las librerías tweepy, firebase_admin y transformers.\")    \n",
    "\n",
    "import datetime"
   ]
  },
  {
   "cell_type": "code",
   "execution_count": null,
   "metadata": {},
   "outputs": [],
   "source": [
    "# Firestore\n",
    "cred = credentials.Certificate('service-acc-key.json')\n",
    "initialize_app(cred)\n",
    "db = firestore.client()"
   ]
  },
  {
   "cell_type": "code",
   "execution_count": 24,
   "metadata": {},
   "outputs": [],
   "source": [
    "incomingDict = {'total': (123, 14, 5), 'madrid': (14, 3, 2), 'barcelona': (5, 2, 1), 'valencia': (1, 1, 1)}"
   ]
  },
  {
   "cell_type": "code",
   "execution_count": 26,
   "metadata": {},
   "outputs": [],
   "source": [
    "for city, results in incomingDict.items():\n",
    "    db.collection('test').document('testUserID').collection('2022-05-28').document(city).set({\n",
    "        'pos': results[0],\n",
    "        'neut': results[1],\n",
    "        'neg': results[2]\n",
    "    })"
   ]
  },
  {
   "cell_type": "code",
   "execution_count": 18,
   "metadata": {},
   "outputs": [],
   "source": [
    "ref = db.collection('test').document('testUserID').collection('2022-05-28')"
   ]
  },
  {
   "cell_type": "code",
   "execution_count": 19,
   "metadata": {},
   "outputs": [],
   "source": [
    "ref2 = ref.document('test1')"
   ]
  },
  {
   "cell_type": "code",
   "execution_count": 20,
   "metadata": {},
   "outputs": [],
   "source": [
    "doc = ref2.get()"
   ]
  },
  {
   "cell_type": "code",
   "execution_count": 21,
   "metadata": {},
   "outputs": [
    {
     "data": {
      "text/plain": [
       "False"
      ]
     },
     "execution_count": 21,
     "metadata": {},
     "output_type": "execute_result"
    }
   ],
   "source": [
    "doc.exists"
   ]
  },
  {
   "cell_type": "code",
   "execution_count": 22,
   "metadata": {},
   "outputs": [
    {
     "data": {
      "text/plain": [
       "update_time {\n",
       "  seconds: 1654363323\n",
       "  nanos: 725073000\n",
       "}"
      ]
     },
     "execution_count": 22,
     "metadata": {},
     "output_type": "execute_result"
    }
   ],
   "source": [
    "# firestore create document\n",
    "ref2.set({'pos': 25, 'neg': 14, 'neut': 5})"
   ]
  },
  {
   "cell_type": "code",
   "execution_count": 8,
   "metadata": {},
   "outputs": [
    {
     "ename": "NotFound",
     "evalue": "404 No document to update: projects/firebirdbackend/databases/(default)/documents/test/apple",
     "output_type": "error",
     "traceback": [
      "\u001b[1;31m---------------------------------------------------------------------------\u001b[0m",
      "\u001b[1;31m_InactiveRpcError\u001b[0m                         Traceback (most recent call last)",
      "File \u001b[1;32mc:\\Users\\Andrés Fernández\\AppData\\Local\\Programs\\Python\\Python310\\lib\\site-packages\\google\\api_core\\grpc_helpers.py:57\u001b[0m, in \u001b[0;36m_wrap_unary_errors.<locals>.error_remapped_callable\u001b[1;34m(*args, **kwargs)\u001b[0m\n\u001b[0;32m     <a href='file:///c%3A/Users/Andr%C3%A9s%20Fern%C3%A1ndez/AppData/Local/Programs/Python/Python310/lib/site-packages/google/api_core/grpc_helpers.py?line=55'>56</a>\u001b[0m \u001b[39mtry\u001b[39;00m:\n\u001b[1;32m---> <a href='file:///c%3A/Users/Andr%C3%A9s%20Fern%C3%A1ndez/AppData/Local/Programs/Python/Python310/lib/site-packages/google/api_core/grpc_helpers.py?line=56'>57</a>\u001b[0m     \u001b[39mreturn\u001b[39;00m callable_(\u001b[39m*\u001b[39margs, \u001b[39m*\u001b[39m\u001b[39m*\u001b[39mkwargs)\n\u001b[0;32m     <a href='file:///c%3A/Users/Andr%C3%A9s%20Fern%C3%A1ndez/AppData/Local/Programs/Python/Python310/lib/site-packages/google/api_core/grpc_helpers.py?line=57'>58</a>\u001b[0m \u001b[39mexcept\u001b[39;00m grpc\u001b[39m.\u001b[39mRpcError \u001b[39mas\u001b[39;00m exc:\n",
      "File \u001b[1;32mc:\\Users\\Andrés Fernández\\AppData\\Local\\Programs\\Python\\Python310\\lib\\site-packages\\grpc\\_channel.py:946\u001b[0m, in \u001b[0;36m_UnaryUnaryMultiCallable.__call__\u001b[1;34m(self, request, timeout, metadata, credentials, wait_for_ready, compression)\u001b[0m\n\u001b[0;32m    <a href='file:///c%3A/Users/Andr%C3%A9s%20Fern%C3%A1ndez/AppData/Local/Programs/Python/Python310/lib/site-packages/grpc/_channel.py?line=943'>944</a>\u001b[0m state, call, \u001b[39m=\u001b[39m \u001b[39mself\u001b[39m\u001b[39m.\u001b[39m_blocking(request, timeout, metadata, credentials,\n\u001b[0;32m    <a href='file:///c%3A/Users/Andr%C3%A9s%20Fern%C3%A1ndez/AppData/Local/Programs/Python/Python310/lib/site-packages/grpc/_channel.py?line=944'>945</a>\u001b[0m                               wait_for_ready, compression)\n\u001b[1;32m--> <a href='file:///c%3A/Users/Andr%C3%A9s%20Fern%C3%A1ndez/AppData/Local/Programs/Python/Python310/lib/site-packages/grpc/_channel.py?line=945'>946</a>\u001b[0m \u001b[39mreturn\u001b[39;00m _end_unary_response_blocking(state, call, \u001b[39mFalse\u001b[39;49;00m, \u001b[39mNone\u001b[39;49;00m)\n",
      "File \u001b[1;32mc:\\Users\\Andrés Fernández\\AppData\\Local\\Programs\\Python\\Python310\\lib\\site-packages\\grpc\\_channel.py:849\u001b[0m, in \u001b[0;36m_end_unary_response_blocking\u001b[1;34m(state, call, with_call, deadline)\u001b[0m\n\u001b[0;32m    <a href='file:///c%3A/Users/Andr%C3%A9s%20Fern%C3%A1ndez/AppData/Local/Programs/Python/Python310/lib/site-packages/grpc/_channel.py?line=847'>848</a>\u001b[0m \u001b[39melse\u001b[39;00m:\n\u001b[1;32m--> <a href='file:///c%3A/Users/Andr%C3%A9s%20Fern%C3%A1ndez/AppData/Local/Programs/Python/Python310/lib/site-packages/grpc/_channel.py?line=848'>849</a>\u001b[0m     \u001b[39mraise\u001b[39;00m _InactiveRpcError(state)\n",
      "\u001b[1;31m_InactiveRpcError\u001b[0m: <_InactiveRpcError of RPC that terminated with:\n\tstatus = StatusCode.NOT_FOUND\n\tdetails = \"No document to update: projects/firebirdbackend/databases/(default)/documents/test/apple\"\n\tdebug_error_string = \"{\"created\":\"@1654362860.301000000\",\"description\":\"Error received from peer ipv4:142.250.200.138:443\",\"file\":\"src/core/lib/surface/call.cc\",\"file_line\":953,\"grpc_message\":\"No document to update: projects/firebirdbackend/databases/(default)/documents/test/apple\",\"grpc_status\":5}\"\n>",
      "\nThe above exception was the direct cause of the following exception:\n",
      "\u001b[1;31mNotFound\u001b[0m                                  Traceback (most recent call last)",
      "\u001b[1;32mc:\\Users\\Andrés Fernández\\Desktop\\firebird - def\\script\\test-firestore.ipynb Cell 4'\u001b[0m in \u001b[0;36m<cell line: 1>\u001b[1;34m()\u001b[0m\n\u001b[1;32m----> <a href='vscode-notebook-cell:/c%3A/Users/Andr%C3%A9s%20Fern%C3%A1ndez/Desktop/firebird%20-%20def/script/test-firestore.ipynb#ch0000004?line=0'>1</a>\u001b[0m ref\u001b[39m.\u001b[39;49mupdate({\u001b[39m'\u001b[39;49m\u001b[39misPotato\u001b[39;49m\u001b[39m'\u001b[39;49m: \u001b[39mFalse\u001b[39;49;00m})\n",
      "File \u001b[1;32mc:\\Users\\Andrés Fernández\\AppData\\Local\\Programs\\Python\\Python310\\lib\\site-packages\\google\\cloud\\firestore_v1\\document.py:325\u001b[0m, in \u001b[0;36mDocumentReference.update\u001b[1;34m(self, field_updates, option, retry, timeout)\u001b[0m\n\u001b[0;32m    <a href='file:///c%3A/Users/Andr%C3%A9s%20Fern%C3%A1ndez/AppData/Local/Programs/Python/Python310/lib/site-packages/google/cloud/firestore_v1/document.py?line=176'>177</a>\u001b[0m \u001b[39m\"\"\"Update an existing document in the Firestore database.\u001b[39;00m\n\u001b[0;32m    <a href='file:///c%3A/Users/Andr%C3%A9s%20Fern%C3%A1ndez/AppData/Local/Programs/Python/Python310/lib/site-packages/google/cloud/firestore_v1/document.py?line=177'>178</a>\u001b[0m \n\u001b[0;32m    <a href='file:///c%3A/Users/Andr%C3%A9s%20Fern%C3%A1ndez/AppData/Local/Programs/Python/Python310/lib/site-packages/google/cloud/firestore_v1/document.py?line=178'>179</a>\u001b[0m \u001b[39mBy default, this method verifies that the document exists on the\u001b[39;00m\n\u001b[1;32m   (...)\u001b[0m\n\u001b[0;32m    <a href='file:///c%3A/Users/Andr%C3%A9s%20Fern%C3%A1ndez/AppData/Local/Programs/Python/Python310/lib/site-packages/google/cloud/firestore_v1/document.py?line=321'>322</a>\u001b[0m \u001b[39m        If the document does not exist.\u001b[39;00m\n\u001b[0;32m    <a href='file:///c%3A/Users/Andr%C3%A9s%20Fern%C3%A1ndez/AppData/Local/Programs/Python/Python310/lib/site-packages/google/cloud/firestore_v1/document.py?line=322'>323</a>\u001b[0m \u001b[39m\"\"\"\u001b[39;00m\n\u001b[0;32m    <a href='file:///c%3A/Users/Andr%C3%A9s%20Fern%C3%A1ndez/AppData/Local/Programs/Python/Python310/lib/site-packages/google/cloud/firestore_v1/document.py?line=323'>324</a>\u001b[0m batch, kwargs \u001b[39m=\u001b[39m \u001b[39mself\u001b[39m\u001b[39m.\u001b[39m_prep_update(field_updates, option, retry, timeout)\n\u001b[1;32m--> <a href='file:///c%3A/Users/Andr%C3%A9s%20Fern%C3%A1ndez/AppData/Local/Programs/Python/Python310/lib/site-packages/google/cloud/firestore_v1/document.py?line=324'>325</a>\u001b[0m write_results \u001b[39m=\u001b[39m batch\u001b[39m.\u001b[39mcommit(\u001b[39m*\u001b[39m\u001b[39m*\u001b[39mkwargs)\n\u001b[0;32m    <a href='file:///c%3A/Users/Andr%C3%A9s%20Fern%C3%A1ndez/AppData/Local/Programs/Python/Python310/lib/site-packages/google/cloud/firestore_v1/document.py?line=325'>326</a>\u001b[0m \u001b[39mreturn\u001b[39;00m _first_write_result(write_results)\n",
      "File \u001b[1;32mc:\\Users\\Andrés Fernández\\AppData\\Local\\Programs\\Python\\Python310\\lib\\site-packages\\google\\cloud\\firestore_v1\\batch.py:59\u001b[0m, in \u001b[0;36mWriteBatch.commit\u001b[1;34m(self, retry, timeout)\u001b[0m\n\u001b[0;32m     <a href='file:///c%3A/Users/Andr%C3%A9s%20Fern%C3%A1ndez/AppData/Local/Programs/Python/Python310/lib/site-packages/google/cloud/firestore_v1/batch.py?line=42'>43</a>\u001b[0m \u001b[39m\"\"\"Commit the changes accumulated in this batch.\u001b[39;00m\n\u001b[0;32m     <a href='file:///c%3A/Users/Andr%C3%A9s%20Fern%C3%A1ndez/AppData/Local/Programs/Python/Python310/lib/site-packages/google/cloud/firestore_v1/batch.py?line=43'>44</a>\u001b[0m \n\u001b[0;32m     <a href='file:///c%3A/Users/Andr%C3%A9s%20Fern%C3%A1ndez/AppData/Local/Programs/Python/Python310/lib/site-packages/google/cloud/firestore_v1/batch.py?line=44'>45</a>\u001b[0m \u001b[39mArgs:\u001b[39;00m\n\u001b[1;32m   (...)\u001b[0m\n\u001b[0;32m     <a href='file:///c%3A/Users/Andr%C3%A9s%20Fern%C3%A1ndez/AppData/Local/Programs/Python/Python310/lib/site-packages/google/cloud/firestore_v1/batch.py?line=54'>55</a>\u001b[0m \u001b[39m    write result contains an ``update_time`` field.\u001b[39;00m\n\u001b[0;32m     <a href='file:///c%3A/Users/Andr%C3%A9s%20Fern%C3%A1ndez/AppData/Local/Programs/Python/Python310/lib/site-packages/google/cloud/firestore_v1/batch.py?line=55'>56</a>\u001b[0m \u001b[39m\"\"\"\u001b[39;00m\n\u001b[0;32m     <a href='file:///c%3A/Users/Andr%C3%A9s%20Fern%C3%A1ndez/AppData/Local/Programs/Python/Python310/lib/site-packages/google/cloud/firestore_v1/batch.py?line=56'>57</a>\u001b[0m request, kwargs \u001b[39m=\u001b[39m \u001b[39mself\u001b[39m\u001b[39m.\u001b[39m_prep_commit(retry, timeout)\n\u001b[1;32m---> <a href='file:///c%3A/Users/Andr%C3%A9s%20Fern%C3%A1ndez/AppData/Local/Programs/Python/Python310/lib/site-packages/google/cloud/firestore_v1/batch.py?line=58'>59</a>\u001b[0m commit_response \u001b[39m=\u001b[39m \u001b[39mself\u001b[39m\u001b[39m.\u001b[39m_client\u001b[39m.\u001b[39m_firestore_api\u001b[39m.\u001b[39mcommit(\n\u001b[0;32m     <a href='file:///c%3A/Users/Andr%C3%A9s%20Fern%C3%A1ndez/AppData/Local/Programs/Python/Python310/lib/site-packages/google/cloud/firestore_v1/batch.py?line=59'>60</a>\u001b[0m     request\u001b[39m=\u001b[39mrequest,\n\u001b[0;32m     <a href='file:///c%3A/Users/Andr%C3%A9s%20Fern%C3%A1ndez/AppData/Local/Programs/Python/Python310/lib/site-packages/google/cloud/firestore_v1/batch.py?line=60'>61</a>\u001b[0m     metadata\u001b[39m=\u001b[39m\u001b[39mself\u001b[39m\u001b[39m.\u001b[39m_client\u001b[39m.\u001b[39m_rpc_metadata,\n\u001b[0;32m     <a href='file:///c%3A/Users/Andr%C3%A9s%20Fern%C3%A1ndez/AppData/Local/Programs/Python/Python310/lib/site-packages/google/cloud/firestore_v1/batch.py?line=61'>62</a>\u001b[0m     \u001b[39m*\u001b[39m\u001b[39m*\u001b[39mkwargs,\n\u001b[0;32m     <a href='file:///c%3A/Users/Andr%C3%A9s%20Fern%C3%A1ndez/AppData/Local/Programs/Python/Python310/lib/site-packages/google/cloud/firestore_v1/batch.py?line=62'>63</a>\u001b[0m )\n\u001b[0;32m     <a href='file:///c%3A/Users/Andr%C3%A9s%20Fern%C3%A1ndez/AppData/Local/Programs/Python/Python310/lib/site-packages/google/cloud/firestore_v1/batch.py?line=64'>65</a>\u001b[0m \u001b[39mself\u001b[39m\u001b[39m.\u001b[39m_write_pbs \u001b[39m=\u001b[39m []\n\u001b[0;32m     <a href='file:///c%3A/Users/Andr%C3%A9s%20Fern%C3%A1ndez/AppData/Local/Programs/Python/Python310/lib/site-packages/google/cloud/firestore_v1/batch.py?line=65'>66</a>\u001b[0m \u001b[39mself\u001b[39m\u001b[39m.\u001b[39mwrite_results \u001b[39m=\u001b[39m results \u001b[39m=\u001b[39m \u001b[39mlist\u001b[39m(commit_response\u001b[39m.\u001b[39mwrite_results)\n",
      "File \u001b[1;32mc:\\Users\\Andrés Fernández\\AppData\\Local\\Programs\\Python\\Python310\\lib\\site-packages\\google\\cloud\\firestore_v1\\services\\firestore\\client.py:1066\u001b[0m, in \u001b[0;36mFirestoreClient.commit\u001b[1;34m(self, request, database, writes, retry, timeout, metadata)\u001b[0m\n\u001b[0;32m   <a href='file:///c%3A/Users/Andr%C3%A9s%20Fern%C3%A1ndez/AppData/Local/Programs/Python/Python310/lib/site-packages/google/cloud/firestore_v1/services/firestore/client.py?line=1060'>1061</a>\u001b[0m metadata \u001b[39m=\u001b[39m \u001b[39mtuple\u001b[39m(metadata) \u001b[39m+\u001b[39m (\n\u001b[0;32m   <a href='file:///c%3A/Users/Andr%C3%A9s%20Fern%C3%A1ndez/AppData/Local/Programs/Python/Python310/lib/site-packages/google/cloud/firestore_v1/services/firestore/client.py?line=1061'>1062</a>\u001b[0m     gapic_v1\u001b[39m.\u001b[39mrouting_header\u001b[39m.\u001b[39mto_grpc_metadata(((\u001b[39m\"\u001b[39m\u001b[39mdatabase\u001b[39m\u001b[39m\"\u001b[39m, request\u001b[39m.\u001b[39mdatabase),)),\n\u001b[0;32m   <a href='file:///c%3A/Users/Andr%C3%A9s%20Fern%C3%A1ndez/AppData/Local/Programs/Python/Python310/lib/site-packages/google/cloud/firestore_v1/services/firestore/client.py?line=1062'>1063</a>\u001b[0m )\n\u001b[0;32m   <a href='file:///c%3A/Users/Andr%C3%A9s%20Fern%C3%A1ndez/AppData/Local/Programs/Python/Python310/lib/site-packages/google/cloud/firestore_v1/services/firestore/client.py?line=1064'>1065</a>\u001b[0m \u001b[39m# Send the request.\u001b[39;00m\n\u001b[1;32m-> <a href='file:///c%3A/Users/Andr%C3%A9s%20Fern%C3%A1ndez/AppData/Local/Programs/Python/Python310/lib/site-packages/google/cloud/firestore_v1/services/firestore/client.py?line=1065'>1066</a>\u001b[0m response \u001b[39m=\u001b[39m rpc(\n\u001b[0;32m   <a href='file:///c%3A/Users/Andr%C3%A9s%20Fern%C3%A1ndez/AppData/Local/Programs/Python/Python310/lib/site-packages/google/cloud/firestore_v1/services/firestore/client.py?line=1066'>1067</a>\u001b[0m     request,\n\u001b[0;32m   <a href='file:///c%3A/Users/Andr%C3%A9s%20Fern%C3%A1ndez/AppData/Local/Programs/Python/Python310/lib/site-packages/google/cloud/firestore_v1/services/firestore/client.py?line=1067'>1068</a>\u001b[0m     retry\u001b[39m=\u001b[39;49mretry,\n\u001b[0;32m   <a href='file:///c%3A/Users/Andr%C3%A9s%20Fern%C3%A1ndez/AppData/Local/Programs/Python/Python310/lib/site-packages/google/cloud/firestore_v1/services/firestore/client.py?line=1068'>1069</a>\u001b[0m     timeout\u001b[39m=\u001b[39;49mtimeout,\n\u001b[0;32m   <a href='file:///c%3A/Users/Andr%C3%A9s%20Fern%C3%A1ndez/AppData/Local/Programs/Python/Python310/lib/site-packages/google/cloud/firestore_v1/services/firestore/client.py?line=1069'>1070</a>\u001b[0m     metadata\u001b[39m=\u001b[39;49mmetadata,\n\u001b[0;32m   <a href='file:///c%3A/Users/Andr%C3%A9s%20Fern%C3%A1ndez/AppData/Local/Programs/Python/Python310/lib/site-packages/google/cloud/firestore_v1/services/firestore/client.py?line=1070'>1071</a>\u001b[0m )\n\u001b[0;32m   <a href='file:///c%3A/Users/Andr%C3%A9s%20Fern%C3%A1ndez/AppData/Local/Programs/Python/Python310/lib/site-packages/google/cloud/firestore_v1/services/firestore/client.py?line=1072'>1073</a>\u001b[0m \u001b[39m# Done; return the response.\u001b[39;00m\n\u001b[0;32m   <a href='file:///c%3A/Users/Andr%C3%A9s%20Fern%C3%A1ndez/AppData/Local/Programs/Python/Python310/lib/site-packages/google/cloud/firestore_v1/services/firestore/client.py?line=1073'>1074</a>\u001b[0m \u001b[39mreturn\u001b[39;00m response\n",
      "File \u001b[1;32mc:\\Users\\Andrés Fernández\\AppData\\Local\\Programs\\Python\\Python310\\lib\\site-packages\\google\\api_core\\gapic_v1\\method.py:154\u001b[0m, in \u001b[0;36m_GapicCallable.__call__\u001b[1;34m(self, timeout, retry, *args, **kwargs)\u001b[0m\n\u001b[0;32m    <a href='file:///c%3A/Users/Andr%C3%A9s%20Fern%C3%A1ndez/AppData/Local/Programs/Python/Python310/lib/site-packages/google/api_core/gapic_v1/method.py?line=150'>151</a>\u001b[0m     metadata\u001b[39m.\u001b[39mextend(\u001b[39mself\u001b[39m\u001b[39m.\u001b[39m_metadata)\n\u001b[0;32m    <a href='file:///c%3A/Users/Andr%C3%A9s%20Fern%C3%A1ndez/AppData/Local/Programs/Python/Python310/lib/site-packages/google/api_core/gapic_v1/method.py?line=151'>152</a>\u001b[0m     kwargs[\u001b[39m\"\u001b[39m\u001b[39mmetadata\u001b[39m\u001b[39m\"\u001b[39m] \u001b[39m=\u001b[39m metadata\n\u001b[1;32m--> <a href='file:///c%3A/Users/Andr%C3%A9s%20Fern%C3%A1ndez/AppData/Local/Programs/Python/Python310/lib/site-packages/google/api_core/gapic_v1/method.py?line=153'>154</a>\u001b[0m \u001b[39mreturn\u001b[39;00m wrapped_func(\u001b[39m*\u001b[39margs, \u001b[39m*\u001b[39m\u001b[39m*\u001b[39mkwargs)\n",
      "File \u001b[1;32mc:\\Users\\Andrés Fernández\\AppData\\Local\\Programs\\Python\\Python310\\lib\\site-packages\\google\\api_core\\retry.py:283\u001b[0m, in \u001b[0;36mRetry.__call__.<locals>.retry_wrapped_func\u001b[1;34m(*args, **kwargs)\u001b[0m\n\u001b[0;32m    <a href='file:///c%3A/Users/Andr%C3%A9s%20Fern%C3%A1ndez/AppData/Local/Programs/Python/Python310/lib/site-packages/google/api_core/retry.py?line=278'>279</a>\u001b[0m target \u001b[39m=\u001b[39m functools\u001b[39m.\u001b[39mpartial(func, \u001b[39m*\u001b[39margs, \u001b[39m*\u001b[39m\u001b[39m*\u001b[39mkwargs)\n\u001b[0;32m    <a href='file:///c%3A/Users/Andr%C3%A9s%20Fern%C3%A1ndez/AppData/Local/Programs/Python/Python310/lib/site-packages/google/api_core/retry.py?line=279'>280</a>\u001b[0m sleep_generator \u001b[39m=\u001b[39m exponential_sleep_generator(\n\u001b[0;32m    <a href='file:///c%3A/Users/Andr%C3%A9s%20Fern%C3%A1ndez/AppData/Local/Programs/Python/Python310/lib/site-packages/google/api_core/retry.py?line=280'>281</a>\u001b[0m     \u001b[39mself\u001b[39m\u001b[39m.\u001b[39m_initial, \u001b[39mself\u001b[39m\u001b[39m.\u001b[39m_maximum, multiplier\u001b[39m=\u001b[39m\u001b[39mself\u001b[39m\u001b[39m.\u001b[39m_multiplier\n\u001b[0;32m    <a href='file:///c%3A/Users/Andr%C3%A9s%20Fern%C3%A1ndez/AppData/Local/Programs/Python/Python310/lib/site-packages/google/api_core/retry.py?line=281'>282</a>\u001b[0m )\n\u001b[1;32m--> <a href='file:///c%3A/Users/Andr%C3%A9s%20Fern%C3%A1ndez/AppData/Local/Programs/Python/Python310/lib/site-packages/google/api_core/retry.py?line=282'>283</a>\u001b[0m \u001b[39mreturn\u001b[39;00m retry_target(\n\u001b[0;32m    <a href='file:///c%3A/Users/Andr%C3%A9s%20Fern%C3%A1ndez/AppData/Local/Programs/Python/Python310/lib/site-packages/google/api_core/retry.py?line=283'>284</a>\u001b[0m     target,\n\u001b[0;32m    <a href='file:///c%3A/Users/Andr%C3%A9s%20Fern%C3%A1ndez/AppData/Local/Programs/Python/Python310/lib/site-packages/google/api_core/retry.py?line=284'>285</a>\u001b[0m     \u001b[39mself\u001b[39;49m\u001b[39m.\u001b[39;49m_predicate,\n\u001b[0;32m    <a href='file:///c%3A/Users/Andr%C3%A9s%20Fern%C3%A1ndez/AppData/Local/Programs/Python/Python310/lib/site-packages/google/api_core/retry.py?line=285'>286</a>\u001b[0m     sleep_generator,\n\u001b[0;32m    <a href='file:///c%3A/Users/Andr%C3%A9s%20Fern%C3%A1ndez/AppData/Local/Programs/Python/Python310/lib/site-packages/google/api_core/retry.py?line=286'>287</a>\u001b[0m     \u001b[39mself\u001b[39;49m\u001b[39m.\u001b[39;49m_deadline,\n\u001b[0;32m    <a href='file:///c%3A/Users/Andr%C3%A9s%20Fern%C3%A1ndez/AppData/Local/Programs/Python/Python310/lib/site-packages/google/api_core/retry.py?line=287'>288</a>\u001b[0m     on_error\u001b[39m=\u001b[39;49mon_error,\n\u001b[0;32m    <a href='file:///c%3A/Users/Andr%C3%A9s%20Fern%C3%A1ndez/AppData/Local/Programs/Python/Python310/lib/site-packages/google/api_core/retry.py?line=288'>289</a>\u001b[0m )\n",
      "File \u001b[1;32mc:\\Users\\Andrés Fernández\\AppData\\Local\\Programs\\Python\\Python310\\lib\\site-packages\\google\\api_core\\retry.py:190\u001b[0m, in \u001b[0;36mretry_target\u001b[1;34m(target, predicate, sleep_generator, deadline, on_error)\u001b[0m\n\u001b[0;32m    <a href='file:///c%3A/Users/Andr%C3%A9s%20Fern%C3%A1ndez/AppData/Local/Programs/Python/Python310/lib/site-packages/google/api_core/retry.py?line=187'>188</a>\u001b[0m \u001b[39mfor\u001b[39;00m sleep \u001b[39min\u001b[39;00m sleep_generator:\n\u001b[0;32m    <a href='file:///c%3A/Users/Andr%C3%A9s%20Fern%C3%A1ndez/AppData/Local/Programs/Python/Python310/lib/site-packages/google/api_core/retry.py?line=188'>189</a>\u001b[0m     \u001b[39mtry\u001b[39;00m:\n\u001b[1;32m--> <a href='file:///c%3A/Users/Andr%C3%A9s%20Fern%C3%A1ndez/AppData/Local/Programs/Python/Python310/lib/site-packages/google/api_core/retry.py?line=189'>190</a>\u001b[0m         \u001b[39mreturn\u001b[39;00m target()\n\u001b[0;32m    <a href='file:///c%3A/Users/Andr%C3%A9s%20Fern%C3%A1ndez/AppData/Local/Programs/Python/Python310/lib/site-packages/google/api_core/retry.py?line=191'>192</a>\u001b[0m     \u001b[39m# pylint: disable=broad-except\u001b[39;00m\n\u001b[0;32m    <a href='file:///c%3A/Users/Andr%C3%A9s%20Fern%C3%A1ndez/AppData/Local/Programs/Python/Python310/lib/site-packages/google/api_core/retry.py?line=192'>193</a>\u001b[0m     \u001b[39m# This function explicitly must deal with broad exceptions.\u001b[39;00m\n\u001b[0;32m    <a href='file:///c%3A/Users/Andr%C3%A9s%20Fern%C3%A1ndez/AppData/Local/Programs/Python/Python310/lib/site-packages/google/api_core/retry.py?line=193'>194</a>\u001b[0m     \u001b[39mexcept\u001b[39;00m \u001b[39mException\u001b[39;00m \u001b[39mas\u001b[39;00m exc:\n",
      "File \u001b[1;32mc:\\Users\\Andrés Fernández\\AppData\\Local\\Programs\\Python\\Python310\\lib\\site-packages\\google\\api_core\\grpc_helpers.py:59\u001b[0m, in \u001b[0;36m_wrap_unary_errors.<locals>.error_remapped_callable\u001b[1;34m(*args, **kwargs)\u001b[0m\n\u001b[0;32m     <a href='file:///c%3A/Users/Andr%C3%A9s%20Fern%C3%A1ndez/AppData/Local/Programs/Python/Python310/lib/site-packages/google/api_core/grpc_helpers.py?line=56'>57</a>\u001b[0m     \u001b[39mreturn\u001b[39;00m callable_(\u001b[39m*\u001b[39margs, \u001b[39m*\u001b[39m\u001b[39m*\u001b[39mkwargs)\n\u001b[0;32m     <a href='file:///c%3A/Users/Andr%C3%A9s%20Fern%C3%A1ndez/AppData/Local/Programs/Python/Python310/lib/site-packages/google/api_core/grpc_helpers.py?line=57'>58</a>\u001b[0m \u001b[39mexcept\u001b[39;00m grpc\u001b[39m.\u001b[39mRpcError \u001b[39mas\u001b[39;00m exc:\n\u001b[1;32m---> <a href='file:///c%3A/Users/Andr%C3%A9s%20Fern%C3%A1ndez/AppData/Local/Programs/Python/Python310/lib/site-packages/google/api_core/grpc_helpers.py?line=58'>59</a>\u001b[0m     \u001b[39mraise\u001b[39;00m exceptions\u001b[39m.\u001b[39mfrom_grpc_error(exc) \u001b[39mfrom\u001b[39;00m \u001b[39mexc\u001b[39;00m\n",
      "\u001b[1;31mNotFound\u001b[0m: 404 No document to update: projects/firebirdbackend/databases/(default)/documents/test/apple"
     ]
    }
   ],
   "source": [
    "ref.update({'isPotato': False})"
   ]
  },
  {
   "cell_type": "code",
   "execution_count": null,
   "metadata": {},
   "outputs": [],
   "source": [
    "campaigns = db.collection('campaigns').stream()\n",
    "\n",
    "for doc in campaigns:\n",
    "\n",
    "    campaign = doc.to_dict()\n",
    "\n",
    "    # Ejemplo de formato:\n",
    "    # Campaign atleti: \n",
    "    # {'track': '#atleti', \n",
    "    # 'isActive': True, \n",
    "    # 'tweet_limit': 1000, \n",
    "    # 'duration': 100, \n",
    "    # 'start': DatetimeWithNanoseconds(2022, 4, 19, 22, 0, tzinfo=datetime.timezone.utc),\n",
    "    # 'userID': '.......'}\n",
    "\n",
    "    \n",
    "\n",
    "    if campaign['isActive']:\n",
    "\n",
    "        # Comprobar que la campaña sigue estando activa\n",
    "        # En caso contrario, marcarla como inactiva y pasar a la siguiente\n",
    "\n",
    "        if campaign['start'] + datetime.timedelta(days = campaign['duration']) > datetime.datetime.now():\n",
    "            doc.update({'isActive': False})\n",
    "            continue\n",
    "\n",
    "        query = campaign['track']\n",
    "        numTweets = campaign['tweet_limit']\n",
    "        userID = campaign['userID']\n",
    "\n",
    "        doc_ref = db.collection('public').document('userID')\n",
    "        doc = doc_ref.get()\n",
    "        if doc.exists:\n",
    "            logging.info(\"Found\")\n",
    "        else:\n",
    "            logging.info(\"Not found\")"
   ]
  }
 ],
 "metadata": {
  "interpreter": {
   "hash": "e2ad3a26d86eb54ff421ef59107701d39e527f3370099fee424c33d9c3b1c725"
  },
  "kernelspec": {
   "display_name": "Python 3.10.4 64-bit (system)",
   "language": "python",
   "name": "python3"
  },
  "language_info": {
   "codemirror_mode": {
    "name": "ipython",
    "version": 3
   },
   "file_extension": ".py",
   "mimetype": "text/x-python",
   "name": "python",
   "nbconvert_exporter": "python",
   "pygments_lexer": "ipython3",
   "version": "3.10.4"
  },
  "orig_nbformat": 4
 },
 "nbformat": 4,
 "nbformat_minor": 2
}
