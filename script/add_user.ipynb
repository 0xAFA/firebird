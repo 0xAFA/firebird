{
 "cells": [
  {
   "cell_type": "code",
   "execution_count": 6,
   "metadata": {},
   "outputs": [],
   "source": [
    "from firebase_admin import auth, firestore, credentials, initialize_app\n",
    "import datetime\n",
    "\n",
    "userID = 'pruebaEspaña'  # este ID debe ser único\n",
    "email = 'españa@fakeemail.com'\n",
    "password = 'españa'\n",
    "query = '#españa'\n",
    "tweetLimit = 1000\n",
    "start = datetime.datetime.now()\n",
    "duration = 100\n"
   ]
  },
  {
   "cell_type": "code",
   "execution_count": 2,
   "metadata": {},
   "outputs": [
    {
     "data": {
      "text/plain": [
       "<firebase_admin.App at 0x26bb74bbfd0>"
      ]
     },
     "execution_count": 2,
     "metadata": {},
     "output_type": "execute_result"
    }
   ],
   "source": [
    "# Esta service account tiene acceso a autentificación y a BDD\n",
    "cred = credentials.Certificate('auth-service-acc-key.json')\n",
    "initialize_app(cred)"
   ]
  },
  {
   "cell_type": "code",
   "execution_count": null,
   "metadata": {},
   "outputs": [],
   "source": [
    "# Crear usuario en Firebase Auth\n",
    "def createUser(email, password, user_id):\n",
    "    return auth.create_user(email=email, password=password, uid=user_id)\n",
    "\n",
    "print(createUser(email, password, userID))"
   ]
  },
  {
   "cell_type": "code",
   "execution_count": 7,
   "metadata": {},
   "outputs": [
    {
     "data": {
      "text/plain": [
       "update_time {\n",
       "  seconds: 1654370007\n",
       "  nanos: 919969000\n",
       "}"
      ]
     },
     "execution_count": 7,
     "metadata": {},
     "output_type": "execute_result"
    }
   ],
   "source": [
    "# Crear el documento en Firestore\n",
    "db = firestore.client()\n",
    "db.collection('public').document(userID).set({'userID': userID, 'query': query, 'tweetLimit': tweetLimit, 'start': start, 'duration': duration, 'isActive': True})"
   ]
  },
  {
   "cell_type": "code",
   "execution_count": null,
   "metadata": {},
   "outputs": [],
   "source": [
    "# Una vez ejecutado este script, el script principal (firebase.py) analizará también los tweets de\n",
    "# esta campaña."
   ]
  }
 ],
 "metadata": {
  "interpreter": {
   "hash": "e2ad3a26d86eb54ff421ef59107701d39e527f3370099fee424c33d9c3b1c725"
  },
  "kernelspec": {
   "display_name": "Python 3.10.4 64-bit (system)",
   "language": "python",
   "name": "python3"
  },
  "language_info": {
   "codemirror_mode": {
    "name": "ipython",
    "version": 3
   },
   "file_extension": ".py",
   "mimetype": "text/x-python",
   "name": "python",
   "nbconvert_exporter": "python",
   "pygments_lexer": "ipython3",
   "version": "3.10.4"
  },
  "orig_nbformat": 4
 },
 "nbformat": 4,
 "nbformat_minor": 2
}
