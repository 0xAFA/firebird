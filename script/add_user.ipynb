{
 "cells": [
  {
   "cell_type": "code",
   "execution_count": 15,
   "metadata": {},
   "outputs": [],
   "source": [
    "from firebase_admin import auth, firestore, credentials, initialize_app\n",
    "import datetime\n",
    "\n",
    "userID = 'Mercadona'  # este ID debe ser único\n",
    "email = 'mercadona@fakeemail.com'\n",
    "password = 'hacendado'\n",
    "query = 'mercadona'\n",
    "tweetLimit = 1000\n",
    "start = datetime.datetime.now()\n",
    "duration = 100\n"
   ]
  },
  {
   "cell_type": "code",
   "execution_count": 16,
   "metadata": {},
   "outputs": [
    {
     "ename": "ValueError",
     "evalue": "The default Firebase app already exists. This means you called initialize_app() more than once without providing an app name as the second argument. In most cases you only need to call initialize_app() once. But if you do want to initialize multiple apps, pass a second argument to initialize_app() to give each app a unique name.",
     "output_type": "error",
     "traceback": [
      "\u001b[1;31m---------------------------------------------------------------------------\u001b[0m",
      "\u001b[1;31mValueError\u001b[0m                                Traceback (most recent call last)",
      "\u001b[1;32mc:\\Users\\Andrés Fernández\\Desktop\\firebird - def\\script\\add_user.ipynb Cell 2'\u001b[0m in \u001b[0;36m<cell line: 3>\u001b[1;34m()\u001b[0m\n\u001b[0;32m      <a href='vscode-notebook-cell:/c%3A/Users/Andr%C3%A9s%20Fern%C3%A1ndez/Desktop/firebird%20-%20def/script/add_user.ipynb#ch0000002?line=0'>1</a>\u001b[0m \u001b[39m# Esta service account tiene acceso a autentificación y a BDD\u001b[39;00m\n\u001b[0;32m      <a href='vscode-notebook-cell:/c%3A/Users/Andr%C3%A9s%20Fern%C3%A1ndez/Desktop/firebird%20-%20def/script/add_user.ipynb#ch0000002?line=1'>2</a>\u001b[0m cred \u001b[39m=\u001b[39m credentials\u001b[39m.\u001b[39mCertificate(\u001b[39m'\u001b[39m\u001b[39mauth-service-acc-key.json\u001b[39m\u001b[39m'\u001b[39m)\n\u001b[1;32m----> <a href='vscode-notebook-cell:/c%3A/Users/Andr%C3%A9s%20Fern%C3%A1ndez/Desktop/firebird%20-%20def/script/add_user.ipynb#ch0000002?line=2'>3</a>\u001b[0m initialize_app(cred)\n",
      "File \u001b[1;32mc:\\Users\\Andrés Fernández\\AppData\\Local\\Programs\\Python\\Python310\\lib\\site-packages\\firebase_admin\\__init__.py:71\u001b[0m, in \u001b[0;36minitialize_app\u001b[1;34m(credential, options, name)\u001b[0m\n\u001b[0;32m     <a href='file:///c%3A/Users/Andr%C3%A9s%20Fern%C3%A1ndez/AppData/Local/Programs/Python/Python310/lib/site-packages/firebase_admin/__init__.py?line=67'>68</a>\u001b[0m         \u001b[39mreturn\u001b[39;00m app\n\u001b[0;32m     <a href='file:///c%3A/Users/Andr%C3%A9s%20Fern%C3%A1ndez/AppData/Local/Programs/Python/Python310/lib/site-packages/firebase_admin/__init__.py?line=69'>70</a>\u001b[0m \u001b[39mif\u001b[39;00m name \u001b[39m==\u001b[39m _DEFAULT_APP_NAME:\n\u001b[1;32m---> <a href='file:///c%3A/Users/Andr%C3%A9s%20Fern%C3%A1ndez/AppData/Local/Programs/Python/Python310/lib/site-packages/firebase_admin/__init__.py?line=70'>71</a>\u001b[0m     \u001b[39mraise\u001b[39;00m \u001b[39mValueError\u001b[39;00m((\n\u001b[0;32m     <a href='file:///c%3A/Users/Andr%C3%A9s%20Fern%C3%A1ndez/AppData/Local/Programs/Python/Python310/lib/site-packages/firebase_admin/__init__.py?line=71'>72</a>\u001b[0m         \u001b[39m'\u001b[39m\u001b[39mThe default Firebase app already exists. This means you called \u001b[39m\u001b[39m'\u001b[39m\n\u001b[0;32m     <a href='file:///c%3A/Users/Andr%C3%A9s%20Fern%C3%A1ndez/AppData/Local/Programs/Python/Python310/lib/site-packages/firebase_admin/__init__.py?line=72'>73</a>\u001b[0m         \u001b[39m'\u001b[39m\u001b[39minitialize_app() more than once without providing an app name as \u001b[39m\u001b[39m'\u001b[39m\n\u001b[0;32m     <a href='file:///c%3A/Users/Andr%C3%A9s%20Fern%C3%A1ndez/AppData/Local/Programs/Python/Python310/lib/site-packages/firebase_admin/__init__.py?line=73'>74</a>\u001b[0m         \u001b[39m'\u001b[39m\u001b[39mthe second argument. In most cases you only need to call \u001b[39m\u001b[39m'\u001b[39m\n\u001b[0;32m     <a href='file:///c%3A/Users/Andr%C3%A9s%20Fern%C3%A1ndez/AppData/Local/Programs/Python/Python310/lib/site-packages/firebase_admin/__init__.py?line=74'>75</a>\u001b[0m         \u001b[39m'\u001b[39m\u001b[39minitialize_app() once. But if you do want to initialize multiple \u001b[39m\u001b[39m'\u001b[39m\n\u001b[0;32m     <a href='file:///c%3A/Users/Andr%C3%A9s%20Fern%C3%A1ndez/AppData/Local/Programs/Python/Python310/lib/site-packages/firebase_admin/__init__.py?line=75'>76</a>\u001b[0m         \u001b[39m'\u001b[39m\u001b[39mapps, pass a second argument to initialize_app() to give each app \u001b[39m\u001b[39m'\u001b[39m\n\u001b[0;32m     <a href='file:///c%3A/Users/Andr%C3%A9s%20Fern%C3%A1ndez/AppData/Local/Programs/Python/Python310/lib/site-packages/firebase_admin/__init__.py?line=76'>77</a>\u001b[0m         \u001b[39m'\u001b[39m\u001b[39ma unique name.\u001b[39m\u001b[39m'\u001b[39m))\n\u001b[0;32m     <a href='file:///c%3A/Users/Andr%C3%A9s%20Fern%C3%A1ndez/AppData/Local/Programs/Python/Python310/lib/site-packages/firebase_admin/__init__.py?line=78'>79</a>\u001b[0m \u001b[39mraise\u001b[39;00m \u001b[39mValueError\u001b[39;00m((\n\u001b[0;32m     <a href='file:///c%3A/Users/Andr%C3%A9s%20Fern%C3%A1ndez/AppData/Local/Programs/Python/Python310/lib/site-packages/firebase_admin/__init__.py?line=79'>80</a>\u001b[0m     \u001b[39m'\u001b[39m\u001b[39mFirebase app named \u001b[39m\u001b[39m\"\u001b[39m\u001b[39m{0}\u001b[39;00m\u001b[39m\"\u001b[39m\u001b[39m already exists. This means you called \u001b[39m\u001b[39m'\u001b[39m\n\u001b[0;32m     <a href='file:///c%3A/Users/Andr%C3%A9s%20Fern%C3%A1ndez/AppData/Local/Programs/Python/Python310/lib/site-packages/firebase_admin/__init__.py?line=80'>81</a>\u001b[0m     \u001b[39m'\u001b[39m\u001b[39minitialize_app() more than once with the same app name as the \u001b[39m\u001b[39m'\u001b[39m\n\u001b[0;32m     <a href='file:///c%3A/Users/Andr%C3%A9s%20Fern%C3%A1ndez/AppData/Local/Programs/Python/Python310/lib/site-packages/firebase_admin/__init__.py?line=81'>82</a>\u001b[0m     \u001b[39m'\u001b[39m\u001b[39msecond argument. Make sure you provide a unique name every time \u001b[39m\u001b[39m'\u001b[39m\n\u001b[0;32m     <a href='file:///c%3A/Users/Andr%C3%A9s%20Fern%C3%A1ndez/AppData/Local/Programs/Python/Python310/lib/site-packages/firebase_admin/__init__.py?line=82'>83</a>\u001b[0m     \u001b[39m'\u001b[39m\u001b[39myou call initialize_app().\u001b[39m\u001b[39m'\u001b[39m)\u001b[39m.\u001b[39mformat(name))\n",
      "\u001b[1;31mValueError\u001b[0m: The default Firebase app already exists. This means you called initialize_app() more than once without providing an app name as the second argument. In most cases you only need to call initialize_app() once. But if you do want to initialize multiple apps, pass a second argument to initialize_app() to give each app a unique name."
     ]
    }
   ],
   "source": [
    "# Esta service account tiene acceso a autentificación y a BDD\n",
    "cred = credentials.Certificate('auth-service-acc-key.json')\n",
    "initialize_app(cred)"
   ]
  },
  {
   "cell_type": "code",
   "execution_count": 17,
   "metadata": {},
   "outputs": [
    {
     "name": "stdout",
     "output_type": "stream",
     "text": [
      "<firebase_admin._user_mgt.UserRecord object at 0x0000026BBA4CB9D0>\n"
     ]
    }
   ],
   "source": [
    "# Crear usuario en Firebase Auth\n",
    "def createUser(email, password, user_id):\n",
    "    return auth.create_user(email=email, password=password, uid=user_id)\n",
    "\n",
    "print(createUser(email, password, userID))"
   ]
  },
  {
   "cell_type": "code",
   "execution_count": 18,
   "metadata": {},
   "outputs": [
    {
     "data": {
      "text/plain": [
       "update_time {\n",
       "  seconds: 1654380086\n",
       "  nanos: 773911000\n",
       "}"
      ]
     },
     "execution_count": 18,
     "metadata": {},
     "output_type": "execute_result"
    }
   ],
   "source": [
    "# Crear el documento en Firestore\n",
    "db = firestore.client()\n",
    "db.collection('public').document(userID).set({'userID': userID, 'query': query, 'tweetLimit': tweetLimit, 'start': start, 'duration': duration, 'isActive': True})"
   ]
  },
  {
   "cell_type": "code",
   "execution_count": null,
   "metadata": {},
   "outputs": [],
   "source": [
    "# Una vez ejecutado este script, el script principal (firebase.py) analizará también los tweets de\n",
    "# esta campaña."
   ]
  }
 ],
 "metadata": {
  "interpreter": {
   "hash": "e2ad3a26d86eb54ff421ef59107701d39e527f3370099fee424c33d9c3b1c725"
  },
  "kernelspec": {
   "display_name": "Python 3.10.4 64-bit (system)",
   "language": "python",
   "name": "python3"
  },
  "language_info": {
   "codemirror_mode": {
    "name": "ipython",
    "version": 3
   },
   "file_extension": ".py",
   "mimetype": "text/x-python",
   "name": "python",
   "nbconvert_exporter": "python",
   "pygments_lexer": "ipython3",
   "version": "3.10.4"
  },
  "orig_nbformat": 4
 },
 "nbformat": 4,
 "nbformat_minor": 2
}
